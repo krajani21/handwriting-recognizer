{
  "cells": [
    {
      "cell_type": "code",
      "execution_count": 1,
      "metadata": {
        "id": "3MjkFz6GufTY"
      },
      "outputs": [],
      "source": [
        "import random\n",
        "import numpy as np\n",
        "\n",
        "class Network(object):\n",
        "\n",
        "    def __init__(self, sizes):\n",
        "        \"\"\"The list ``sizes`` contains the number of neurons in the\n",
        "        respective layers of the network.  For example, if the list\n",
        "        was [2, 3, 1] then it would be a three-layer network, with the\n",
        "        first layer containing 2 neurons, the second layer 3 neurons,\n",
        "        and the third layer 1 neuron.  The biases and weights for the\n",
        "        network are initialized randomly, using a Gaussian\n",
        "        distribution with mean 0, and variance 1.  Note that the first\n",
        "        layer is assumed to be an input layer, and by convention we\n",
        "        won't set any biases for those neurons, since biases are only\n",
        "        ever used in computing the outputs from later layers.\"\"\"\n",
        "        self.num_layers = len(sizes)\n",
        "        self.sizes = sizes\n",
        "        self.biases = [np.random.randn(y, 1) for y in sizes[1:]]\n",
        "        self.weights = [np.random.randn(y, x) for x, y in zip(sizes[:-1], sizes[1:])]\n",
        "\n",
        "    def feedforward(self, a):\n",
        "        \"\"\"Return the output of the network if ``a`` is input.\"\"\"\n",
        "        for b, w in zip(self.biases, self.weights):\n",
        "            a = sigmoid(np.dot(w, a)+b)\n",
        "        return a\n",
        "\n",
        "    def SGD(self, training_data, epochs, mini_batch_size, eta,\n",
        "            test_data=None):\n",
        "        \"\"\"Train the neural network using mini-batch stochastic\n",
        "        gradient descent.  The ``training_data`` is a list of tuples\n",
        "        ``(x, y)`` representing the training inputs and the desired\n",
        "        outputs.  The other non-optional parameters are\n",
        "        self-explanatory.  If ``test_data`` is provided then the\n",
        "        network will be evaluated against the test data after each\n",
        "        epoch, and partial progress printed out.  This is useful for\n",
        "        tracking progress, but slows things down substantially.\"\"\"\n",
        "        if test_data: n_test = len(test_data)\n",
        "        n = len(training_data)\n",
        "        for j in range(epochs):\n",
        "            random.shuffle(training_data)\n",
        "            mini_batches = [\n",
        "                training_data[k:k+mini_batch_size]\n",
        "                for k in range(0, n, mini_batch_size)]\n",
        "            for mini_batch in mini_batches:\n",
        "                self.update_mini_batch(mini_batch, eta)\n",
        "            if test_data:\n",
        "                print (\"Epoch {0}: {1} / {2}\".format(j, self.evaluate(test_data), n_test))\n",
        "            else:\n",
        "                print (\"Epoch {0} complete\".format(j))\n",
        "\n",
        "    def update_mini_batch(self, mini_batch, eta):\n",
        "        \"\"\"Update the network's weights and biases by applying\n",
        "        gradient descent using backpropagation to a single mini batch.\n",
        "        The ``mini_batch`` is a list of tuples ``(x, y)``, and ``eta``\n",
        "        is the step size/learning rate.\"\"\"\n",
        "        nabla_b = [np.zeros(b.shape) for b in self.biases]\n",
        "        nabla_w = [np.zeros(w.shape) for w in self.weights]\n",
        "        for x, y in mini_batch:\n",
        "            delta_nabla_b, delta_nabla_w = self.backprop(x, y)            #invoke the backpropagation algorithm\n",
        "            nabla_b = [nb+dnb for nb, dnb in zip(nabla_b, delta_nabla_b)]\n",
        "            nabla_w = [nw+dnw for nw, dnw in zip(nabla_w, delta_nabla_w)]\n",
        "        self.weights = [w-(eta/len(mini_batch))*nw\n",
        "                        for w, nw in zip(self.weights, nabla_w)]\n",
        "        self.biases = [b-(eta/len(mini_batch))*nb\n",
        "                       for b, nb in zip(self.biases, nabla_b)]\n",
        "\n",
        "    def backprop(self, x, y):\n",
        "        \"\"\"Return a tuple ``(nabla_b, nabla_w)`` representing the\n",
        "        gradient for the cost function C_x.  ``nabla_b`` and\n",
        "        ``nabla_w`` are layer-by-layer lists of numpy arrays, similar\n",
        "        to ``self.biases`` and ``self.weights``.\"\"\"\n",
        "        nabla_b = [np.zeros(b.shape) for b in self.biases]\n",
        "        nabla_w = [np.zeros(w.shape) for w in self.weights]\n",
        "        # feedforward\n",
        "        activation = x\n",
        "        activations = [x]                                                 #list to store all the activations, layer by layer\n",
        "        zs = []                                                           #list to store all the z vectors, layer by layer\n",
        "        for b, w in zip(self.biases, self.weights):\n",
        "            z = np.dot(w, activation)+b\n",
        "            zs.append(z)\n",
        "            activation = sigmoid(z)\n",
        "            activations.append(activation)\n",
        "        # backward pass\n",
        "        delta = self.cost_derivative(activations[-1], y) * \\\n",
        "            sigmoid_prime(zs[-1])\n",
        "        nabla_b[-1] = delta\n",
        "        nabla_w[-1] = np.dot(delta, activations[-2].transpose())\n",
        "        # Note that the variable l in the loop below is used a little\n",
        "        # differently to the notation in Chapter 2 of the book.  Here,\n",
        "        # l = 1 means the last layer of neurons, l = 2 is the\n",
        "        # second-last layer, and so on.  It's a renumbering of the\n",
        "        # scheme in the book, used here to take advantage of the fact\n",
        "        # that Python can use negative indices in lists.\n",
        "        for l in range(2, self.num_layers):\n",
        "            z = zs[-l]\n",
        "            sp = sigmoid_prime(z)\n",
        "            delta = np.dot(self.weights[-l+1].transpose(), delta) * sp\n",
        "            nabla_b[-l] = delta\n",
        "            nabla_w[-l] = np.dot(delta, activations[-l-1].transpose())\n",
        "        return (nabla_b, nabla_w)\n",
        "\n",
        "    def evaluate(self, test_data):\n",
        "        \"\"\"Return the number of test inputs for which the neural\n",
        "        network outputs the correct result. Note that the neural\n",
        "        network's output is assumed to be the index of whichever\n",
        "        neuron in the final layer has the highest activation.\"\"\"\n",
        "        test_results = [(np.argmax(self.feedforward(x)), y)\n",
        "                        for (x, y) in test_data]\n",
        "        return sum(int(x == y) for (x, y) in test_results)\n",
        "\n",
        "    def cost_derivative(self, output_activations, y):\n",
        "        \"\"\"Return the vector of partial derivatives \\partial C_x /\n",
        "        \\partial a for the output activations.\"\"\"\n",
        "        return (output_activations-y)\n",
        "\n",
        "#### Miscellaneous functions\n",
        "def sigmoid(z):\n",
        "    \"\"\"The sigmoid function.\"\"\"\n",
        "    return 1.0/(1.0+np.exp(-z))\n",
        "\n",
        "def sigmoid_prime(z):\n",
        "    \"\"\"Derivative of the sigmoid function.\"\"\"\n",
        "    return sigmoid(z)*(1-sigmoid(z))\n"
      ]
    },
    {
      "cell_type": "code",
      "execution_count": 2,
      "metadata": {
        "colab": {
          "base_uri": "https://localhost:8080/"
        },
        "id": "8Ntt_UzDj0FR",
        "outputId": "8587e4cf-a899-4e98-dba0-dc892cdf3baf"
      },
      "outputs": [
        {
          "name": "stdout",
          "output_type": "stream",
          "text": [
            "Cloning into 'handwriting-recognizer'...\n",
            "remote: Enumerating objects: 22, done.\u001b[K\n",
            "remote: Counting objects: 100% (22/22), done.\u001b[K\n",
            "remote: Compressing objects: 100% (15/15), done.\u001b[K\n",
            "remote: Total 22 (delta 9), reused 12 (delta 5), pack-reused 0 (from 0)\u001b[K\n",
            "Receiving objects: 100% (22/22), 16.20 MiB | 12.41 MiB/s, done.\n",
            "Resolving deltas: 100% (9/9), done.\n",
            "/content/handwriting-recognizer\n"
          ]
        }
      ],
      "source": [
        "!git clone https://github.com/krajani21/handwriting-recognizer.git\n",
        "%cd handwriting-recognizer\n",
        "\n",
        "import mnist_loader\n",
        "training_data, validation_data, test_data = mnist_loader.load_data_wrapper()\n"
      ]
    },
    {
      "cell_type": "markdown",
      "metadata": {
        "id": "i1J9y5BSmsGs"
      },
      "source": [
        "**First network with 30 neurons in 1 hidden layer**"
      ]
    },
    {
      "cell_type": "code",
      "execution_count": 7,
      "metadata": {
        "id": "CSuLC0vvm3JR"
      },
      "outputs": [],
      "source": [
        "net = Network([784, 30, 10])"
      ]
    },
    {
      "cell_type": "markdown",
      "metadata": {
        "id": "8w5mmCWum69_"
      },
      "source": [
        "We will use stochastic gradient descent (SGD) on the training dataset with 30 epochs, mini-batch size of 10, and step size = 3.0"
      ]
    },
    {
      "cell_type": "code",
      "execution_count": 8,
      "metadata": {
        "colab": {
          "base_uri": "https://localhost:8080/"
        },
        "id": "RedfXJAznOBF",
        "outputId": "42dda76a-015f-428f-b5c1-9638bae2e249"
      },
      "outputs": [
        {
          "name": "stdout",
          "output_type": "stream",
          "text": [
            "Epoch 0: 9015 / 10000\n",
            "Epoch 1: 9241 / 10000\n",
            "Epoch 2: 9273 / 10000\n",
            "Epoch 3: 9336 / 10000\n",
            "Epoch 4: 9352 / 10000\n",
            "Epoch 5: 9366 / 10000\n",
            "Epoch 6: 9376 / 10000\n",
            "Epoch 7: 9391 / 10000\n",
            "Epoch 8: 9404 / 10000\n",
            "Epoch 9: 9424 / 10000\n",
            "Epoch 10: 9419 / 10000\n",
            "Epoch 11: 9437 / 10000\n",
            "Epoch 12: 9417 / 10000\n",
            "Epoch 13: 9452 / 10000\n",
            "Epoch 14: 9452 / 10000\n",
            "Epoch 15: 9466 / 10000\n",
            "Epoch 16: 9469 / 10000\n",
            "Epoch 17: 9457 / 10000\n",
            "Epoch 18: 9467 / 10000\n",
            "Epoch 19: 9478 / 10000\n",
            "Epoch 20: 9467 / 10000\n",
            "Epoch 21: 9483 / 10000\n",
            "Epoch 22: 9464 / 10000\n",
            "Epoch 23: 9486 / 10000\n",
            "Epoch 24: 9492 / 10000\n",
            "Epoch 25: 9488 / 10000\n",
            "Epoch 26: 9488 / 10000\n",
            "Epoch 27: 9467 / 10000\n",
            "Epoch 28: 9500 / 10000\n",
            "Epoch 29: 9494 / 10000\n"
          ]
        }
      ],
      "source": [
        "net.SGD(training_data, 30, 10, 3.0, test_data=test_data)"
      ]
    },
    {
      "cell_type": "markdown",
      "metadata": {
        "id": "5zZcl_fv0Wn_"
      },
      "source": [
        "**Second network with 100 hidden neurons in 1 hidden layer**\n",
        "\n",
        "Increasing the number of neurons to 100 in the hidden layer increases the complexity, and hence should increase the accuracy of the output"
      ]
    },
    {
      "cell_type": "code",
      "execution_count": 5,
      "metadata": {
        "id": "QmX6HF4i0kgQ"
      },
      "outputs": [],
      "source": [
        "net2 = Network([784, 100, 10])"
      ]
    },
    {
      "cell_type": "code",
      "execution_count": 6,
      "metadata": {
        "colab": {
          "base_uri": "https://localhost:8080/"
        },
        "id": "Q6dFprgj0ue-",
        "outputId": "26f027bd-26ff-4c00-fd4e-22d1fdaa31e5"
      },
      "outputs": [
        {
          "name": "stdout",
          "output_type": "stream",
          "text": [
            "Epoch 0: 8315 / 10000\n",
            "Epoch 1: 8518 / 10000\n",
            "Epoch 2: 8563 / 10000\n",
            "Epoch 3: 8632 / 10000\n",
            "Epoch 4: 9476 / 10000\n",
            "Epoch 5: 9517 / 10000\n",
            "Epoch 6: 9508 / 10000\n",
            "Epoch 7: 9549 / 10000\n",
            "Epoch 8: 9553 / 10000\n",
            "Epoch 9: 9533 / 10000\n",
            "Epoch 10: 9583 / 10000\n",
            "Epoch 11: 9580 / 10000\n",
            "Epoch 12: 9571 / 10000\n",
            "Epoch 13: 9595 / 10000\n",
            "Epoch 14: 9620 / 10000\n",
            "Epoch 15: 9612 / 10000\n",
            "Epoch 16: 9620 / 10000\n",
            "Epoch 17: 9627 / 10000\n",
            "Epoch 18: 9606 / 10000\n",
            "Epoch 19: 9629 / 10000\n",
            "Epoch 20: 9637 / 10000\n",
            "Epoch 21: 9618 / 10000\n",
            "Epoch 22: 9642 / 10000\n",
            "Epoch 23: 9654 / 10000\n",
            "Epoch 24: 9667 / 10000\n",
            "Epoch 25: 9661 / 10000\n",
            "Epoch 26: 9657 / 10000\n",
            "Epoch 27: 9662 / 10000\n",
            "Epoch 28: 9653 / 10000\n",
            "Epoch 29: 9656 / 10000\n"
          ]
        }
      ],
      "source": [
        "training_data, validation_data, test_data = mnist_loader.load_data_wrapper()\n",
        "net2.SGD(training_data, 30, 10, 3.0, test_data=test_data)"
      ]
    },
    {
      "cell_type": "markdown",
      "metadata": {
        "id": "5xtH_1i2-OCf"
      },
      "source": [
        "In the new network with 100 neurons in the hidden layer, just in epoch 5, we achieved an accuracy > 95%, which took the old network with 30 neurons, 30 epochs to achieve such an accuracy. Th accuracy also increased to 96.56% from 94.94% as expected, due to the increased complexity in the hidden layer"
      ]
    }
  ],
  "metadata": {
    "colab": {
      "provenance": []
    },
    "kernelspec": {
      "display_name": "Python 3",
      "name": "python3"
    },
    "language_info": {
      "name": "python"
    }
  },
  "nbformat": 4,
  "nbformat_minor": 0
}
